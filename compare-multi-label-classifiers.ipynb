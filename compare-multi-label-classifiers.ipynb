{
 "cells": [
  {
   "cell_type": "code",
   "execution_count": 1,
   "metadata": {},
   "outputs": [],
   "source": [
    "from scipy.io import arff\n",
    "import pandas as pd\n",
    "import numpy as np\n",
    "\n",
    "from ctbn import CTBN\n",
    "from sklearn.multioutput import ClassifierChain\n",
    "from sklearn.linear_model import LogisticRegression"
   ]
  },
  {
   "cell_type": "code",
   "execution_count": 2,
   "metadata": {},
   "outputs": [],
   "source": [
    "def get_data_numpy(data_arff):\n",
    "    df = pd.DataFrame(train_data[0])\n",
    "    features, labels = df.columns[:294], df.columns[294:]\n",
    "    X, Y = df[features].to_numpy(), np.uint8(df[labels].to_numpy())\n",
    "    return X, Y"
   ]
  },
  {
   "cell_type": "code",
   "execution_count": 3,
   "metadata": {},
   "outputs": [],
   "source": [
    "def calc_ema(y_test, y_pred):\n",
    "    tot_samples = y_test.shape[0]\n",
    "    num_exact_equal_rows = np.sum(np.all(y_test == y_pred, axis=1))\n",
    "    return (num_exact_equal_rows/tot_samples) * 100\n",
    "\n",
    "def calc_cll_loss(log_probs):\n",
    "    return -1 * np.sum(log_probs)"
   ]
  },
  {
   "cell_type": "code",
   "execution_count": 4,
   "metadata": {},
   "outputs": [],
   "source": [
    "train_data = arff.loadarff(\"data/scene/scene-train.arff\")\n",
    "X_train, Y_train = get_data_numpy(train_data)\n",
    "\n",
    "test_data = arff.loadarff(\"data/scene/scene-test.arff\")\n",
    "X_test, Y_test = get_data_numpy(test_data)"
   ]
  },
  {
   "cell_type": "code",
   "execution_count": 5,
   "metadata": {},
   "outputs": [],
   "source": [
    "model = CTBN()\n",
    "model.fit(X_train, Y_train)"
   ]
  },
  {
   "cell_type": "code",
   "execution_count": 6,
   "metadata": {},
   "outputs": [
    {
     "name": "stdout",
     "output_type": "stream",
     "text": [
      "The exact match accuracy of the CTBN model is 77.20891824938067\n"
     ]
    }
   ],
   "source": [
    "predictions = np.zeros_like(Y_test)\n",
    "log_probs = []\n",
    "prediction = [None] * Y_test.shape[1]\n",
    "for i, sample in enumerate(X_test):\n",
    "    max_prob, pred = model.predict(sample)\n",
    "    for node, value in pred.items():\n",
    "        prediction[int(node)-1] = value \n",
    "    predictions[i] = prediction\n",
    "    log_probs.append(max_prob)\n",
    "print(f\"The exact match accuracy of the CTBN model is {calc_ema(Y_test, predictions)}\")"
   ]
  },
  {
   "cell_type": "code",
   "execution_count": 7,
   "metadata": {},
   "outputs": [
    {
     "name": "stdout",
     "output_type": "stream",
     "text": [
      "The exact match accuracy of the classifier chain model is 78.77786952931461\n"
     ]
    }
   ],
   "source": [
    "base_lr = LogisticRegression(solver='lbfgs', random_state=0, max_iter=1000)\n",
    "chain = ClassifierChain(base_lr, order='random', random_state=0)\n",
    "chain.fit(X_train, Y_train)\n",
    "chain_predictions = chain.predict(X_test)\n",
    "print(f\"The exact match accuracy of the classifier chain model is {calc_ema(Y_test, chain_predictions)}\")"
   ]
  },
  {
   "cell_type": "code",
   "execution_count": null,
   "metadata": {},
   "outputs": [],
   "source": []
  }
 ],
 "metadata": {
  "kernelspec": {
   "display_name": "Python 3 (ipykernel)",
   "language": "python",
   "name": "python3"
  },
  "language_info": {
   "codemirror_mode": {
    "name": "ipython",
    "version": 3
   },
   "file_extension": ".py",
   "mimetype": "text/x-python",
   "name": "python",
   "nbconvert_exporter": "python",
   "pygments_lexer": "ipython3",
   "version": "3.8.10"
  }
 },
 "nbformat": 4,
 "nbformat_minor": 2
}
